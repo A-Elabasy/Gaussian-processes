{
  "nbformat": 4,
  "nbformat_minor": 0,
  "metadata": {
    "colab": {
      "name": "Untitled11.ipynb",
      "version": "0.3.2",
      "provenance": []
    },
    "kernelspec": {
      "name": "python3",
      "display_name": "Python 3"
    }
  },
  "cells": [
    {
      "metadata": {
        "id": "4rAb8NKFEd6Y",
        "colab_type": "code",
        "colab": {
          "base_uri": "https://localhost:8080/",
          "height": 296
        },
        "outputId": "efba1530-23cd-4d01-d014-5be4f8853cf1"
      },
      "cell_type": "code",
      "source": [
        "import math\n",
        "import torch \n",
        "import matplotlib \n",
        "from matplotlib import pyplot as plt\n",
        "from torchvision import transforms, utils\n",
        "import numpy as np\n",
        "from numpy.linalg import inv\n",
        "import torchvision\n",
        "import torchvision.datasets as datasets\n",
        "mnist_trainset = datasets.MNIST(root='./data', train=True, download=True, transform=None)\n",
        "mnist_testset =datasets.MNIST(root='./data', train=False, download=True, transform=None)\n",
        "train_x=mnist_trainset.data[0:6000].view(-1,28*28)\n",
        "\n",
        "def kernel(a, b, param):\n",
        "    sqdist = (a**2) + (b**2).t() - 2*torch.mm(a, b.t())\n",
        "    #print(np.sum(b**2,1))\n",
        "    return torch.exp(-.5 * (1/param**2) * sqdist)\n",
        "sigma=1\n",
        "param=.1\n",
        "#K_ss = kernel(Xtest, Xtest, param,sigma)\n",
        "#L = np.linalg.cholesky(K_ss + 1e-10*np.eye(n))\n",
        "\n",
        "images= torch.ones([60000,64],dtype=torch.float32)\n",
        "images_test=torch.ones([10000,64],dtype=torch.float32)\n",
        "\n",
        "for i in range(60000):\n",
        "\ttrans=torchvision.transforms.ToPILImage(mode=None)\n",
        "\tresize = transforms.Resize(size=(8, 8))\n",
        "\timg=resize(trans(mnist_trainset.data[i]))\n",
        "\ttens=torchvision.transforms.ToTensor()\n",
        "\timg=tens(img).view(-1,8*8)\n",
        "\timages[i]= img\n",
        "for i in range(10000):\n",
        "\ttrans=torchvision.transforms.ToPILImage(mode=None)\n",
        "\tresize = transforms.Resize(size=(8, 8))\n",
        "\timg=resize(trans(mnist_testset.data[i]))\n",
        "\ttens=torchvision.transforms.ToTensor()\n",
        "\timg=tens(img).view(-1,8*8)\n",
        "\timages_test[i]= img"
      ],
      "execution_count": 1,
      "outputs": [
        {
          "output_type": "stream",
          "text": [
            "  0%|          | 0/9912422 [00:00<?, ?it/s]"
          ],
          "name": "stderr"
        },
        {
          "output_type": "stream",
          "text": [
            "Downloading http://yann.lecun.com/exdb/mnist/train-images-idx3-ubyte.gz to ./data/MNIST/raw/train-images-idx3-ubyte.gz\n"
          ],
          "name": "stdout"
        },
        {
          "output_type": "stream",
          "text": [
            "9920512it [00:00, 22465287.12it/s]                            \n"
          ],
          "name": "stderr"
        },
        {
          "output_type": "stream",
          "text": [
            "Extracting ./data/MNIST/raw/train-images-idx3-ubyte.gz\n"
          ],
          "name": "stdout"
        },
        {
          "output_type": "stream",
          "text": [
            "32768it [00:00, 374128.11it/s]\n",
            "0it [00:00, ?it/s]"
          ],
          "name": "stderr"
        },
        {
          "output_type": "stream",
          "text": [
            "Downloading http://yann.lecun.com/exdb/mnist/train-labels-idx1-ubyte.gz to ./data/MNIST/raw/train-labels-idx1-ubyte.gz\n",
            "Extracting ./data/MNIST/raw/train-labels-idx1-ubyte.gz\n",
            "Downloading http://yann.lecun.com/exdb/mnist/t10k-images-idx3-ubyte.gz to ./data/MNIST/raw/t10k-images-idx3-ubyte.gz\n"
          ],
          "name": "stdout"
        },
        {
          "output_type": "stream",
          "text": [
            "1654784it [00:00, 5657648.30it/s]                           \n",
            "8192it [00:00, 139461.71it/s]\n"
          ],
          "name": "stderr"
        },
        {
          "output_type": "stream",
          "text": [
            "Extracting ./data/MNIST/raw/t10k-images-idx3-ubyte.gz\n",
            "Downloading http://yann.lecun.com/exdb/mnist/t10k-labels-idx1-ubyte.gz to ./data/MNIST/raw/t10k-labels-idx1-ubyte.gz\n",
            "Extracting ./data/MNIST/raw/t10k-labels-idx1-ubyte.gz\n",
            "Processing...\n",
            "Done!\n"
          ],
          "name": "stdout"
        }
      ]
    },
    {
      "metadata": {
        "id": "6ykqSoTZEjrK",
        "colab_type": "code",
        "colab": {}
      },
      "cell_type": "code",
      "source": [
        "def kernel2d(data1,data2,param):\n",
        "  matrix=np.zeros((np.size(data1,0),np.size(data2,0)))\n",
        "  for i in range(np.size(data1,0)):\n",
        "    for j in range(np.size(data2,0)):\n",
        "      ecu=np.sqrt(np.sum((data1[i]-data2[j])**2))\n",
        "      matrix[i,j]=ecu\n",
        "  return np.exp(-64*matrix / (2.0 * param**2))"
      ],
      "execution_count": 0,
      "outputs": []
    },
    {
      "metadata": {
        "id": "mMkxiCscFW4i",
        "colab_type": "code",
        "colab": {}
      },
      "cell_type": "code",
      "source": [
        "def matrix_cholesky(A):\n",
        "    L = torch.zeros_like(A)\n",
        "\n",
        "    for i in range(A.shape[-1]):\n",
        "        for j in range(i+1):\n",
        "            s = 0.0\n",
        "            for k in range(j):\n",
        "                s = s + L[i,k] * L[j,k]\n",
        "\n",
        "            L[i,j] = torch.sqrt(A[i,i] - s) if (i == j) else \\\n",
        "                      (1.0 / L[j,j] * (A[i,j] - s))\n",
        "    return L"
      ],
      "execution_count": 0,
      "outputs": []
    },
    {
      "metadata": {
        "id": "wITyFIvgFbtW",
        "colab_type": "code",
        "colab": {}
      },
      "cell_type": "code",
      "source": [
        "def binar(arr,value):\n",
        "  arr[np.where(arr!=value)]=-4\n",
        "  arr[np.where(arr==value)]=-2\n",
        "  return arr+3"
      ],
      "execution_count": 0,
      "outputs": []
    },
    {
      "metadata": {
        "id": "vZSPudbLFrL_",
        "colab_type": "code",
        "colab": {}
      },
      "cell_type": "code",
      "source": [
        "def loglikelhood(targets,f):\n",
        "  Pygivenf=-np.log(1+np.exp(np.multiply(-targets,f)))\n",
        "  return Pygivenf"
      ],
      "execution_count": 0,
      "outputs": []
    },
    {
      "metadata": {
        "id": "Epfs45P2Fu1e",
        "colab_type": "code",
        "colab": {}
      },
      "cell_type": "code",
      "source": [
        "def Fderivative(targets,f):\n",
        "  firstderivative=((targets+1)/2)-loglikelhood(np.ones(np.size(targets)),f)\n",
        "  return firstderivative"
      ],
      "execution_count": 0,
      "outputs": []
    },
    {
      "metadata": {
        "id": "-oVukI8dHIBo",
        "colab_type": "code",
        "colab": {}
      },
      "cell_type": "code",
      "source": [
        "def Sderivative(targets,f):\n",
        "  secondderivative=np.multiply(np.identity(np.size(targets)),-loglikelhood(np.ones(np.size(targets)),f)*(1-loglikelhood(np.ones(np.size(targets)),f)))\n",
        "  return secondderivative"
      ],
      "execution_count": 0,
      "outputs": []
    },
    {
      "metadata": {
        "id": "irjwX9sYQLvx",
        "colab_type": "code",
        "colab": {}
      },
      "cell_type": "code",
      "source": [
        "def sigma(f):\n",
        "  sigma=1/(1+np.exp(-f))\n",
        "  return sigma\n",
        "  "
      ],
      "execution_count": 0,
      "outputs": []
    },
    {
      "metadata": {
        "id": "G5_ewQ-4Q9qj",
        "colab_type": "code",
        "colab": {}
      },
      "cell_type": "code",
      "source": [
        "def predict(targets,ks,fnew):\n",
        "  fstar=np.dot(ks,Fderivative(targets,fnew))\n",
        "  return fstar"
      ],
      "execution_count": 0,
      "outputs": []
    },
    {
      "metadata": {
        "id": "XdUagauiGR4X",
        "colab_type": "code",
        "colab": {}
      },
      "cell_type": "code",
      "source": [
        "def predict2(kernel,ks,fnew):\n",
        "  fstar=np.dot(ks,np.dot(inv(kernel),fnew))\n",
        "  return fstar"
      ],
      "execution_count": 0,
      "outputs": []
    },
    {
      "metadata": {
        "id": "bog-Biz5NSXY",
        "colab_type": "code",
        "colab": {}
      },
      "cell_type": "code",
      "source": [
        "#def integration(fstar,expec,var):\n",
        "#  sumed=np.zeros(np.size(fsatr))\n",
        "#  for i in range()\n",
        "#  sumed=np.dot(sigma(fstar),np.random.multivariate_normal(expec, var, np.size(fsatr))"
      ],
      "execution_count": 0,
      "outputs": []
    },
    {
      "metadata": {
        "id": "Bvpd7TH-IYsd",
        "colab_type": "code",
        "colab": {}
      },
      "cell_type": "code",
      "source": [
        "def newton(targets,f,kernel,iteratons):\n",
        "  i=0\n",
        "  marginal1=np.zeros(np.size(targets))\n",
        "  condition=True\n",
        "  while ((i<iteratons)&(condition)):\n",
        "    firstderivative=Fderivative(targets,f)\n",
        "    secondderivative=Sderivative(targets,f)\n",
        "    W=secondderivative\n",
        "    L=np.array(matrix_cholesky(torch.as_tensor(np.identity(np.size(targets))+np.dot(np.dot(np.sqrt(W),kernel),(np.sqrt(W)))+1e-15*np.eye(np.size(targets)))))\n",
        "    #print(f)\n",
        "    b=np.dot(W,f)+firstderivative\n",
        "    a=b-np.dot(np.dot((np.sqrt(W)),inv(L.T)),(np.dot(np.dot(np.dot(inv(L),(np.sqrt(W))),kernel),b)))\n",
        "    f=np.dot(kernel,a)\n",
        "    marginal2=-.5*np.dot(np.dot(f,inv(kernel)),f)+loglikelhood(targets,f)-np.linalg.det(np.identity(np.size(targets))+np.dot(np.dot(np.sqrt(W),kernel),(np.sqrt(W))))\n",
        "    condition=abs(np.sum(marginal1)-np.sum(marginal2))>.01\n",
        "    #print(np.sum(marginal2))\n",
        "    marginal1=marginal2\n",
        "    i=i+1\n",
        "  return f"
      ],
      "execution_count": 0,
      "outputs": []
    },
    {
      "metadata": {
        "id": "5HUh8wUbNZFS",
        "colab_type": "code",
        "colab": {
          "base_uri": "https://localhost:8080/",
          "height": 461
        },
        "outputId": "71ee9872-b83c-42bc-d551-36df8a1b82a2"
      },
      "cell_type": "code",
      "source": [
        "samples=50\n",
        "lscale=28\n",
        "fin=np.zeros(samples)\n",
        "targets=binar(np.array(mnist_trainset.targets[0:samples]),0)\n",
        "kernel=kernel2d(np.array(train_x[0:samples]),np.array(train_x[0:samples]),lscale)\n",
        "f=newton(targets,fin,kernel,100)\n",
        "sig=sigma(f)\n",
        "print(sig)\n",
        "print(targets)\n",
        "ks=kernel2d(np.array(train_x[150:200]),np.array(train_x[0:samples]),lscale)\n",
        "fstar=predict(targets,ks,f)\n",
        "Efstar=predict2(kernel,ks,f)\n",
        "W=Sderivative(targets,f)\n",
        "L=np.array(matrix_cholesky(torch.as_tensor(np.identity(np.size(targets))+np.dot(np.dot(np.sqrt(W),kernel),(np.sqrt(W)))+1e-15*np.eye(np.size(targets)))))\n",
        "v=np.dot(inv(L),(np.dot(np.sqrt(W),ks)))\n",
        "V=kernel2d(np.array(train_x[50:100]),np.array(train_x[50:100]),1)-np.dot(v.T,v)\n",
        "mul=np.dot(sigma(f),np.random.multivariate_normal(Efstar, V, np.size(f)))\n",
        "pred=sigma(Efstar)\n",
        "#print(Efstar)\n",
        "print(pred)\n",
        "print(binar(np.array(mnist_trainset.targets[150:200]),0))"
      ],
      "execution_count": 16,
      "outputs": [
        {
          "output_type": "stream",
          "text": [
            "[0.63626944 0.79114121 0.63414907 0.65694914 0.6365091  0.63240561\n",
            " 0.65316683 0.6344887  0.65506403 0.63714467 0.64106322 0.64222599\n",
            " 0.630664   0.63207148 0.66512186 0.63727295 0.63354057 0.63730144\n",
            " 0.63866172 0.64265851 0.63577355 0.78854903 0.63980386 0.6526541\n",
            " 0.63803987 0.630605   0.64454117 0.63289959 0.63210167 0.64329167\n",
            " 0.63576238 0.63733969 0.63900433 0.64148999 0.7939876  0.64149442\n",
            " 0.64025988 0.78869387 0.63485396 0.64082822 0.65807605 0.63644398\n",
            " 0.65261097 0.64652967 0.64102703 0.63758266 0.63318568 0.67628261\n",
            " 0.64170381 0.63399297]\n",
            "[-1  1 -1 -1 -1 -1 -1 -1 -1 -1 -1 -1 -1 -1 -1 -1 -1 -1 -1 -1 -1  1 -1 -1\n",
            " -1 -1 -1 -1 -1 -1 -1 -1 -1 -1  1 -1 -1  1 -1 -1 -1 -1 -1 -1 -1 -1 -1 -1\n",
            " -1 -1]\n",
            "[0.52856437 0.52627209 0.55109975 0.54203181 0.52762217 0.52588238\n",
            " 0.52418839 0.52567433 0.52318018 0.51737415 0.53242709 0.51633543\n",
            " 0.53479255 0.52934862 0.52719565 0.5330429  0.53267946 0.52621378\n",
            " 0.536383   0.52778313 0.52807461 0.52110836 0.52435498 0.5395275\n",
            " 0.57095571 0.5352307  0.53806511 0.55475731 0.5684044  0.51896279\n",
            " 0.54516425 0.51956216 0.52605375 0.5761449  0.55927497 0.52606783\n",
            " 0.52270706 0.5219708  0.5246868  0.52238283 0.52584882 0.5308018\n",
            " 0.53302544 0.52824098 0.58636229 0.54377299 0.52802928 0.52700995\n",
            " 0.52289777 0.52851596]\n",
            "[-1 -1 -1 -1 -1 -1  1 -1 -1 -1 -1 -1 -1 -1 -1 -1 -1 -1 -1  1 -1 -1 -1 -1\n",
            " -1 -1 -1 -1 -1 -1 -1 -1 -1 -1 -1 -1 -1 -1 -1 -1 -1 -1  1 -1 -1 -1 -1 -1\n",
            " -1 -1]\n"
          ],
          "name": "stdout"
        }
      ]
    },
    {
      "metadata": {
        "id": "QhuUo6mEO5Ft",
        "colab_type": "code",
        "colab": {}
      },
      "cell_type": "code",
      "source": [
        ""
      ],
      "execution_count": 0,
      "outputs": []
    },
    {
      "metadata": {
        "id": "2N4C_7yLQGXD",
        "colab_type": "code",
        "colab": {}
      },
      "cell_type": "code",
      "source": [
        ""
      ],
      "execution_count": 0,
      "outputs": []
    }
  ]
}