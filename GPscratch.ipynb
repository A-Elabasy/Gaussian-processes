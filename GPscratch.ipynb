{
  "nbformat": 4,
  "nbformat_minor": 0,
  "metadata": {
    "colab": {
      "name": "Untitled14.ipynb",
      "version": "0.3.2",
      "provenance": []
    },
    "kernelspec": {
      "name": "python3",
      "display_name": "Python 3"
    }
  },
  "cells": [
    {
      "cell_type": "code",
      "metadata": {
        "id": "3zCQhLTwYkN6",
        "colab_type": "code",
        "outputId": "983acab4-032c-4bff-bd31-5c2865f05761",
        "colab": {
          "base_uri": "https://localhost:8080/",
          "height": 299
        }
      },
      "source": [
        "import math\n",
        "import torch \n",
        "import matplotlib \n",
        "from matplotlib import pyplot as plt\n",
        "from torchvision import transforms, utils\n",
        "import numpy as np\n",
        "from numpy.linalg import inv\n",
        "import torchvision\n",
        "import torchvision.datasets as datasets\n",
        "import scipy\n",
        "from scipy.linalg import *\n",
        "from scipy.linalg import cholesky, cho_solve, solve\n",
        "from scipy.special import erf, expit\n",
        "\n",
        "mnist_trainset = datasets.MNIST(root='./data', train=True, download=True, transform=None)\n",
        "mnist_testset =datasets.MNIST(root='./data', train=False, download=True, transform=None)\n",
        "train_x=mnist_trainset.data[0:6000].view(-1,28*28)\n",
        "\n",
        "def kernel(a, b, param):\n",
        "    sqdist = (a**2) + (b**2).t() - 2*torch.mm(a, b.t())\n",
        "    return torch.exp(-.5 * (1/param**2) * sqdist)\n",
        "sigma=1\n",
        "param=.1\n",
        "\n",
        "\n",
        "images= torch.ones([60000,64],dtype=torch.float32)\n",
        "images_test=torch.ones([10000,64],dtype=torch.float32)\n",
        "\n",
        "for i in range(60000):\n",
        "\ttrans=torchvision.transforms.ToPILImage(mode=None)\n",
        "\tresize = transforms.Resize(size=(8, 8))\n",
        "\timg=resize(trans(mnist_trainset.data[i]))\n",
        "\ttens=torchvision.transforms.ToTensor()\n",
        "\timg=tens(img).view(-1,8*8)\n",
        "\timages[i]= img\n",
        "for i in range(10000):\n",
        "\ttrans=torchvision.transforms.ToPILImage(mode=None)\n",
        "\tresize = transforms.Resize(size=(8, 8))\n",
        "\timg=resize(trans(mnist_testset.data[i]))\n",
        "\ttens=torchvision.transforms.ToTensor()\n",
        "\timg=tens(img).view(-1,8*8)\n",
        "\timages_test[i]= img"
      ],
      "execution_count": 0,
      "outputs": [
        {
          "output_type": "stream",
          "text": [
            "\r0it [00:00, ?it/s]"
          ],
          "name": "stderr"
        },
        {
          "output_type": "stream",
          "text": [
            "Downloading http://yann.lecun.com/exdb/mnist/train-images-idx3-ubyte.gz to ./data/MNIST/raw/train-images-idx3-ubyte.gz\n"
          ],
          "name": "stdout"
        },
        {
          "output_type": "stream",
          "text": [
            "9920512it [00:01, 8180143.84it/s]                            \n"
          ],
          "name": "stderr"
        },
        {
          "output_type": "stream",
          "text": [
            "Extracting ./data/MNIST/raw/train-images-idx3-ubyte.gz\n"
          ],
          "name": "stdout"
        },
        {
          "output_type": "stream",
          "text": [
            "  0%|          | 0/28881 [00:00<?, ?it/s]"
          ],
          "name": "stderr"
        },
        {
          "output_type": "stream",
          "text": [
            "Downloading http://yann.lecun.com/exdb/mnist/train-labels-idx1-ubyte.gz to ./data/MNIST/raw/train-labels-idx1-ubyte.gz\n"
          ],
          "name": "stdout"
        },
        {
          "output_type": "stream",
          "text": [
            "32768it [00:00, 136924.80it/s]           \n",
            "  0%|          | 0/1648877 [00:00<?, ?it/s]"
          ],
          "name": "stderr"
        },
        {
          "output_type": "stream",
          "text": [
            "Extracting ./data/MNIST/raw/train-labels-idx1-ubyte.gz\n",
            "Downloading http://yann.lecun.com/exdb/mnist/t10k-images-idx3-ubyte.gz to ./data/MNIST/raw/t10k-images-idx3-ubyte.gz\n"
          ],
          "name": "stdout"
        },
        {
          "output_type": "stream",
          "text": [
            "1654784it [00:00, 2247601.35it/s]                            \n",
            "0it [00:00, ?it/s]"
          ],
          "name": "stderr"
        },
        {
          "output_type": "stream",
          "text": [
            "Extracting ./data/MNIST/raw/t10k-images-idx3-ubyte.gz\n",
            "Downloading http://yann.lecun.com/exdb/mnist/t10k-labels-idx1-ubyte.gz to ./data/MNIST/raw/t10k-labels-idx1-ubyte.gz\n"
          ],
          "name": "stdout"
        },
        {
          "output_type": "stream",
          "text": [
            "8192it [00:00, 51623.91it/s]            \n"
          ],
          "name": "stderr"
        },
        {
          "output_type": "stream",
          "text": [
            "Extracting ./data/MNIST/raw/t10k-labels-idx1-ubyte.gz\n",
            "Processing...\n",
            "Done!\n"
          ],
          "name": "stdout"
        }
      ]
    },
    {
      "cell_type": "code",
      "metadata": {
        "id": "rG7hrFkiYq1m",
        "colab_type": "code",
        "colab": {}
      },
      "source": [
        "from scipy.spatial.distance import cdist\n",
        "def kernels(data1,data2,param,ampl):\n",
        "  dists = cdist(data1 / param, data2 / param,metric='sqeuclidean')\n",
        "  K = np.exp(-.5 * dists)\n",
        "  return ampl*K"
      ],
      "execution_count": 0,
      "outputs": []
    },
    {
      "cell_type": "code",
      "metadata": {
        "id": "86nhGY2ZYzz4",
        "colab_type": "code",
        "colab": {}
      },
      "source": [
        "def matrix_cholesky(A):\n",
        "    L = torch.zeros_like(A)\n",
        "\n",
        "    for i in range(A.shape[-1]):\n",
        "        for j in range(i+1):\n",
        "            s = 0.0\n",
        "            for k in range(j):\n",
        "                s = s + L[i,k] * L[j,k]\n",
        "\n",
        "            L[i,j] = torch.sqrt(A[i,i] - s) if (i == j) else \\\n",
        "                      (1.0 / L[j,j] * (A[i,j] - s))\n",
        "    return L"
      ],
      "execution_count": 0,
      "outputs": []
    },
    {
      "cell_type": "code",
      "metadata": {
        "id": "mtjk-a1EY2ky",
        "colab_type": "code",
        "colab": {}
      },
      "source": [
        "def binar(arr,value):\n",
        "  arr[np.where(arr!=value)]=-4\n",
        "  arr[np.where(arr==value)]=-2\n",
        "  return arr+3"
      ],
      "execution_count": 0,
      "outputs": []
    },
    {
      "cell_type": "code",
      "metadata": {
        "id": "qCA8R6oWZJZF",
        "colab_type": "code",
        "colab": {}
      },
      "source": [
        "def predict(targets,K,f):\n",
        "  pi = expit(f)\n",
        "  f_star = K.T.dot(targets- pi)\n",
        "  return f_star"
      ],
      "execution_count": 0,
      "outputs": []
    },
    {
      "cell_type": "code",
      "metadata": {
        "id": "9NZsuwDFZow2",
        "colab_type": "code",
        "colab": {}
      },
      "source": [
        "def predictprob(targets,K,K_star,K_star_star,f):\n",
        "  pi=expit(f)\n",
        "  LAMBDAS = np.array([0.41, 0.4, 0.37, 0.44, 0.39])[:, np.newaxis]\n",
        "  COEFS = np.array([-1854.8214151, 3516.89893646, 221.29346712,128.12323805, -2010.49422654])[:, np.newaxis]\n",
        "  f_star = K_star.T.dot(targets - pi)\n",
        "  W = pi * (1 - pi)\n",
        "  W_sr = np.sqrt(W)\n",
        "  W_sr_K = W_sr[:, np.newaxis] * K\n",
        "  B = np.eye(W.shape[0]) + W_sr_K * W_sr\n",
        "  L = cholesky(B, lower=True)\n",
        "  v = solve(L, W_sr[:, np.newaxis] * K_star)  \n",
        "  var_f_star = np.diag(K_star_star) - np.einsum(\"ij,ij->j\", v, v)\n",
        "  alpha = 1 / (2 * var_f_star)\n",
        "  gamma = LAMBDAS * f_star\n",
        "  integrals = np.sqrt(np.pi / alpha) * erf(gamma * np.sqrt(alpha / (alpha + LAMBDAS**2))) / (2 * np.sqrt(var_f_star * 2 * np.pi))\n",
        "  pi_star = (COEFS * integrals).sum(axis=0) + .5 * COEFS.sum()\n",
        "  return np.vstack((pi_star)).T\n"
      ],
      "execution_count": 0,
      "outputs": []
    },
    {
      "cell_type": "code",
      "metadata": {
        "id": "8Z_QqcetZPvN",
        "colab_type": "code",
        "colab": {}
      },
      "source": [
        "def newton(targets,K,iteratons):\n",
        "  f = np.zeros_like(targets, dtype=np.float64)\n",
        "  log_marginal_likelihood = -np.inf\n",
        "  for _ in range(iteratons):\n",
        "            # Line 4\n",
        "            pi = expit(f)\n",
        "            W = pi * (1 - pi)\n",
        "            # Line 5\n",
        "            W_sr = np.sqrt(W)\n",
        "            W_sr_K = W_sr[:, np.newaxis] * K\n",
        "            B = np.eye(W.shape[0]) + W_sr_K * W_sr\n",
        "            L = cholesky(B, lower=True)\n",
        "            #L = np.array(matrix_cholesky(torch.as_tensor(B)))\n",
        "            # Line 6\n",
        "            b = W * f + (targets - pi)\n",
        "            # Line 7\n",
        "            a = b - W_sr * cho_solve((L, True), W_sr_K.dot(b))\n",
        "            # Line 8\n",
        "            f = K.dot(a)\n",
        "\n",
        "            # Line 10: Compute log marginal likelihood in loop and use as\n",
        "            #          convergence criterion\n",
        "            lml = -0.5 * a.T.dot(f) \\\n",
        "                - np.log1p(np.exp(-(targets * 2 - 1) * f)).sum() \\\n",
        "                - np.log(np.diag(L)).sum()\n",
        "            # Check if we have converged (log marginal likelihood does\n",
        "            # not decrease)\n",
        "            # XXX: more complex convergence criterion\n",
        "            if lml - log_marginal_likelihood < 1e-10:\n",
        "                break\n",
        "            log_marginal_likelihood = lml\n",
        "            #print(lml)\n",
        "  return f"
      ],
      "execution_count": 0,
      "outputs": []
    },
    {
      "cell_type": "code",
      "metadata": {
        "id": "e0hSYIZgZT7y",
        "colab_type": "code",
        "outputId": "28daa8c6-e131-4f92-b813-6b46bf034266",
        "colab": {
          "base_uri": "https://localhost:8080/",
          "height": 485
        }
      },
      "source": [
        "samples=2000\n",
        "lscale=[9678.83555037,2485.89159882,2787.85417398,3176.2763532,3965.89015053,2201.46584303,4394.15303759,5227.57692151,2798.70785485,2132.15866156]\n",
        "ampl=[2170.53098164,226.27154633,162.94049999,219.6163741,300.88828563,105.99065007,408.15960278,776.39586001,142.06318177,97.67561165]\n",
        "testsamples=100\n",
        "maxima = np.empty(testsamples, dtype=float)\n",
        "maxima.fill(-np.inf)\n",
        "argmaxima = np.zeros(testsamples, dtype=int)\n",
        "maximaprob = np.empty(testsamples, dtype=float)\n",
        "maximaprob.fill(-np.inf)\n",
        "for i in range(10):\n",
        "  targets=binar(np.array(mnist_trainset.targets[0:samples]),i)\n",
        "  kernel=kernels(np.array(train_x[0:samples]),np.array(train_x[0:samples]),lscale[i],ampl[i])\n",
        "  f2=newton((targets+1)/2,kernel,100)\n",
        "  ks=kernels(np.array(train_x[0:samples]),np.array(train_x[samples:samples+testsamples]),lscale[i],ampl[i])\n",
        "  star=predict((targets+1)/2,ks,f2)\n",
        "  K_star_star=kernels(np.array(train_x[samples:samples+testsamples]),np.array(train_x[samples:samples+testsamples]),lscale[i],ampl[i])\n",
        "  prob=predictprob((targets+1)/2,kernel,ks,K_star_star,f2)\n",
        "  np.maximum(maxima, star, out=maxima)\n",
        "  argmaxima[maxima == star] = i\n",
        "  np.maximum(maximaprob[np.newaxis,:], prob, out=maximaprob[np.newaxis,:])\n",
        "  #print(star)\n",
        "print(mnist_trainset.targets[samples:samples+testsamples])\n",
        "print(argmaxima)\n",
        "print(maximaprob)"
      ],
      "execution_count": 0,
      "outputs": [
        {
          "output_type": "stream",
          "text": [
            "tensor([5, 8, 8, 4, 2, 6, 9, 7, 1, 0, 2, 3, 1, 8, 7, 1, 8, 2, 7, 2, 6, 3, 2, 3,\n",
            "        7, 6, 8, 7, 5, 3, 8, 4, 4, 9, 4, 6, 4, 5, 5, 1, 1, 9, 3, 8, 6, 1, 4, 1,\n",
            "        7, 5, 4, 0, 4, 2, 7, 7, 5, 8, 0, 6, 9, 6, 6, 8, 7, 2, 0, 8, 8, 4, 8, 4,\n",
            "        4, 2, 3, 2, 3, 8, 2, 0, 5, 0, 0, 1, 0, 2, 1, 3, 3, 4, 7, 5, 3, 6, 1, 7,\n",
            "        6, 8, 3, 9])\n",
            "[5 8 8 4 2 6 9 7 1 0 2 3 1 8 0 1 8 2 7 2 6 3 2 3 7 6 8 7 5 3 8 4 4 9 2 6 4\n",
            " 5 5 1 1 9 3 8 1 1 4 1 7 5 4 0 4 2 7 7 5 8 0 6 9 6 6 8 2 2 0 8 8 4 1 4 4 2\n",
            " 3 2 3 8 2 0 5 0 0 1 0 2 1 3 3 4 7 5 4 6 1 7 6 8 7 9]\n",
            "[0.37218178 0.94903751 0.64886016 0.88840215 0.91092029 0.96055918\n",
            " 0.87146247 0.99201279 0.91090209 0.98363645 0.46147711 0.82357475\n",
            " 0.81164542 0.90137263 0.57666956 0.90167279 0.54528378 0.88209292\n",
            " 0.65100363 0.857855   0.8404419  0.89002231 0.71546678 0.60587859\n",
            " 0.94893599 0.9353431  0.58891535 0.96916035 0.48159478 0.72579318\n",
            " 0.34580877 0.96926259 0.77891661 0.84117858 0.39656423 0.91951977\n",
            " 0.50656145 0.8461704  0.82590783 0.77460945 0.55134166 0.78482846\n",
            " 0.54897009 0.95229301 0.63211673 0.95422773 0.93594039 0.97490955\n",
            " 0.89476178 0.81427925 0.64659557 0.96980627 0.48491282 0.9620909\n",
            " 0.70004963 0.98363282 0.58803219 0.95785541 0.675638   0.97309076\n",
            " 0.51267305 0.9304782  0.87792351 0.96892322 0.62934187 0.96819935\n",
            " 0.80746991 0.99013636 0.56541579 0.98227137 0.55675214 0.96420123\n",
            " 0.72208794 0.8724208  0.37272819 0.9191587  0.48752507 0.93341632\n",
            " 0.50056318 0.96399973 0.58492764 0.88578069 0.95569032 0.91976578\n",
            " 0.96551504 0.82311955 0.91202316 0.84671396 0.83152104 0.9535038\n",
            " 0.98244115 0.86456305 0.67173006 0.9668473  0.85687946 0.97346398\n",
            " 0.92430951 0.87911916 0.98252608 0.94020924]\n"
          ],
          "name": "stdout"
        }
      ]
    },
    {
      "cell_type": "code",
      "metadata": {
        "id": "b-7tuaoFZUts",
        "colab_type": "code",
        "outputId": "51317d5b-05f4-41f5-ea56-ebe7c35daf37",
        "colab": {
          "base_uri": "https://localhost:8080/",
          "height": 36
        }
      },
      "source": [
        "accuracy = (np.array(mnist_trainset.targets[samples:samples+testsamples]) == argmaxima).mean()\n",
        "print(accuracy)"
      ],
      "execution_count": 0,
      "outputs": [
        {
          "output_type": "stream",
          "text": [
            "0.93\n"
          ],
          "name": "stdout"
        }
      ]
    }
  ]
}